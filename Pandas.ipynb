{
 "cells": [
  {
   "cell_type": "code",
   "execution_count": 2,
   "metadata": {},
   "outputs": [],
   "source": [
    "# pada\n",
    "import pandas as pd \n",
    "import numpy as np"
   ]
  },
  {
   "cell_type": "code",
   "execution_count": 2,
   "metadata": {},
   "outputs": [
    {
     "name": "stdout",
     "output_type": "stream",
     "text": [
      "Series([], dtype: float64)\n"
     ]
    }
   ],
   "source": [
    "#import the pandas library and aliasing as pd\n",
    "s = pd.Series()\n",
    "print(s)"
   ]
  },
  {
   "cell_type": "code",
   "execution_count": 6,
   "metadata": {},
   "outputs": [
    {
     "name": "stdout",
     "output_type": "stream",
     "text": [
      "0    a\n",
      "1    b\n",
      "2    c\n",
      "3    d\n",
      "dtype: object\n"
     ]
    }
   ],
   "source": [
    "#import the pandas library and aliasing as pd\n",
    "data = np.array(['a','b','c','d'])\n",
    "s = pd.Series(data)\n",
    "print(s)"
   ]
  },
  {
   "cell_type": "code",
   "execution_count": 18,
   "metadata": {},
   "outputs": [
    {
     "name": "stdout",
     "output_type": "stream",
     "text": [
      "100    a\n",
      "101    b\n",
      "102    c\n",
      "dtype: object\n"
     ]
    }
   ],
   "source": [
    "#import the pandas library and aliasing as pd\n",
    "data = np.array(['a','b','c'])\n",
    "s = pd.Series(data,index=[100,101,102])\n",
    "print(s)"
   ]
  },
  {
   "cell_type": "code",
   "execution_count": 20,
   "metadata": {},
   "outputs": [
    {
     "name": "stdout",
     "output_type": "stream",
     "text": [
      "a    10.0\n",
      "b    11.0\n",
      "c    12.0\n",
      "dtype: float64\n"
     ]
    }
   ],
   "source": [
    "#import the pandas library and aliasing as pd\n",
    "data = {'a':10.,'b':11.,'c':12.}\n",
    "s = pd.Series(data)\n",
    "print(s)"
   ]
  },
  {
   "cell_type": "code",
   "execution_count": 22,
   "metadata": {},
   "outputs": [
    {
     "data": {
      "text/html": [
       "<div>\n",
       "<style scoped>\n",
       "    .dataframe tbody tr th:only-of-type {\n",
       "        vertical-align: middle;\n",
       "    }\n",
       "\n",
       "    .dataframe tbody tr th {\n",
       "        vertical-align: top;\n",
       "    }\n",
       "\n",
       "    .dataframe thead th {\n",
       "        text-align: right;\n",
       "    }\n",
       "</style>\n",
       "<table border=\"1\" class=\"dataframe\">\n",
       "  <thead>\n",
       "    <tr style=\"text-align: right;\">\n",
       "      <th></th>\n",
       "      <th>column1</th>\n",
       "      <th>column2</th>\n",
       "    </tr>\n",
       "  </thead>\n",
       "  <tbody>\n",
       "    <tr>\n",
       "      <th>0</th>\n",
       "      <td>1</td>\n",
       "      <td>2</td>\n",
       "    </tr>\n",
       "    <tr>\n",
       "      <th>1</th>\n",
       "      <td>6</td>\n",
       "      <td>7</td>\n",
       "    </tr>\n",
       "  </tbody>\n",
       "</table>\n",
       "</div>"
      ],
      "text/plain": [
       "   column1  column2\n",
       "0        1        2\n",
       "1        6        7"
      ]
     },
     "execution_count": 22,
     "metadata": {},
     "output_type": "execute_result"
    }
   ],
   "source": [
    "data = [[1,2],[6,7]]\n",
    "df = pd.DataFrame(data,columns=[\"column1\", \"column2\"])\n",
    "df.head()"
   ]
  },
  {
   "cell_type": "code",
   "execution_count": 24,
   "metadata": {},
   "outputs": [
    {
     "data": {
      "text/html": [
       "<div>\n",
       "<style scoped>\n",
       "    .dataframe tbody tr th:only-of-type {\n",
       "        vertical-align: middle;\n",
       "    }\n",
       "\n",
       "    .dataframe tbody tr th {\n",
       "        vertical-align: top;\n",
       "    }\n",
       "\n",
       "    .dataframe thead th {\n",
       "        text-align: right;\n",
       "    }\n",
       "</style>\n",
       "<table border=\"1\" class=\"dataframe\">\n",
       "  <thead>\n",
       "    <tr style=\"text-align: right;\">\n",
       "      <th></th>\n",
       "      <th>0</th>\n",
       "      <th>1</th>\n",
       "    </tr>\n",
       "  </thead>\n",
       "  <tbody>\n",
       "    <tr>\n",
       "      <th>0</th>\n",
       "      <td>Alex</td>\n",
       "      <td>10</td>\n",
       "    </tr>\n",
       "    <tr>\n",
       "      <th>1</th>\n",
       "      <td>Bob</td>\n",
       "      <td>12</td>\n",
       "    </tr>\n",
       "    <tr>\n",
       "      <th>2</th>\n",
       "      <td>Clark</td>\n",
       "      <td>13</td>\n",
       "    </tr>\n",
       "  </tbody>\n",
       "</table>\n",
       "</div>"
      ],
      "text/plain": [
       "       0   1\n",
       "0   Alex  10\n",
       "1    Bob  12\n",
       "2  Clark  13"
      ]
     },
     "execution_count": 24,
     "metadata": {},
     "output_type": "execute_result"
    }
   ],
   "source": [
    "data =[['Alex', 10],['Bob',12],['Clark',13]]\n",
    "df = pd.DataFrame(data)\n",
    "df.head()"
   ]
  },
  {
   "cell_type": "code",
   "execution_count": 26,
   "metadata": {},
   "outputs": [
    {
     "data": {
      "text/html": [
       "<div>\n",
       "<style scoped>\n",
       "    .dataframe tbody tr th:only-of-type {\n",
       "        vertical-align: middle;\n",
       "    }\n",
       "\n",
       "    .dataframe tbody tr th {\n",
       "        vertical-align: top;\n",
       "    }\n",
       "\n",
       "    .dataframe thead th {\n",
       "        text-align: right;\n",
       "    }\n",
       "</style>\n",
       "<table border=\"1\" class=\"dataframe\">\n",
       "  <thead>\n",
       "    <tr style=\"text-align: right;\">\n",
       "      <th></th>\n",
       "      <th>Name</th>\n",
       "      <th>Age</th>\n",
       "    </tr>\n",
       "  </thead>\n",
       "  <tbody>\n",
       "    <tr>\n",
       "      <th>rank1</th>\n",
       "      <td>Tom</td>\n",
       "      <td>28</td>\n",
       "    </tr>\n",
       "    <tr>\n",
       "      <th>rank2</th>\n",
       "      <td>Jack</td>\n",
       "      <td>34</td>\n",
       "    </tr>\n",
       "    <tr>\n",
       "      <th>rank3</th>\n",
       "      <td>Steve</td>\n",
       "      <td>29</td>\n",
       "    </tr>\n",
       "    <tr>\n",
       "      <th>rank4</th>\n",
       "      <td>Ricky</td>\n",
       "      <td>42</td>\n",
       "    </tr>\n",
       "  </tbody>\n",
       "</table>\n",
       "</div>"
      ],
      "text/plain": [
       "        Name  Age\n",
       "rank1    Tom   28\n",
       "rank2   Jack   34\n",
       "rank3  Steve   29\n",
       "rank4  Ricky   42"
      ]
     },
     "execution_count": 26,
     "metadata": {},
     "output_type": "execute_result"
    }
   ],
   "source": [
    "data = {'Name':['Tom', 'Jack', 'Steve', 'Ricky'],'Age':[28,34,29,42]}\n",
    "df = pd.DataFrame(data, index=['rank1','rank2','rank3','rank4'])\n",
    "df.head()"
   ]
  },
  {
   "cell_type": "code",
   "execution_count": 27,
   "metadata": {},
   "outputs": [
    {
     "data": {
      "text/html": [
       "<div>\n",
       "<style scoped>\n",
       "    .dataframe tbody tr th:only-of-type {\n",
       "        vertical-align: middle;\n",
       "    }\n",
       "\n",
       "    .dataframe tbody tr th {\n",
       "        vertical-align: top;\n",
       "    }\n",
       "\n",
       "    .dataframe thead th {\n",
       "        text-align: right;\n",
       "    }\n",
       "</style>\n",
       "<table border=\"1\" class=\"dataframe\">\n",
       "  <thead>\n",
       "    <tr style=\"text-align: right;\">\n",
       "      <th></th>\n",
       "      <th>a</th>\n",
       "      <th>b</th>\n",
       "      <th>c</th>\n",
       "    </tr>\n",
       "  </thead>\n",
       "  <tbody>\n",
       "    <tr>\n",
       "      <th>first</th>\n",
       "      <td>1</td>\n",
       "      <td>2</td>\n",
       "      <td>NaN</td>\n",
       "    </tr>\n",
       "    <tr>\n",
       "      <th>second</th>\n",
       "      <td>5</td>\n",
       "      <td>10</td>\n",
       "      <td>20.0</td>\n",
       "    </tr>\n",
       "  </tbody>\n",
       "</table>\n",
       "</div>"
      ],
      "text/plain": [
       "        a   b     c\n",
       "first   1   2   NaN\n",
       "second  5  10  20.0"
      ]
     },
     "execution_count": 27,
     "metadata": {},
     "output_type": "execute_result"
    }
   ],
   "source": [
    "data = [{'a': 1, 'b': 2},{'a': 5, 'b': 10, 'c': 20}]\n",
    "df = pd.DataFrame(data, index=['first', 'second'])\n",
    "df.head()"
   ]
  },
  {
   "cell_type": "code",
   "execution_count": 28,
   "metadata": {},
   "outputs": [
    {
     "name": "stdout",
     "output_type": "stream",
     "text": [
      "   column1  column2  column3  column4\n",
      "0        1        2        3        4\n",
      "1        2        3        5        6\n"
     ]
    }
   ],
   "source": [
    "d = [[1,2,3,4],[2,3,5,6]]\n",
    "s = pd.DataFrame(d, columns=['column1', 'column2', 'column3', 'column4'])\n",
    "print(s.head())\n",
    "\n",
    "print(\"\\n\")\n",
    "print(s['column3'])"
   ]
  },
  {
   "cell_type": "code",
   "execution_count": 29,
   "metadata": {},
   "outputs": [
    {
     "name": "stdout",
     "output_type": "stream",
     "text": [
      "   column1  column2\n",
      "0        1        3\n",
      "1        2        4\n",
      "\n",
      "\n",
      "0    3\n",
      "1    4\n",
      "Name: column2, dtype: int64\n"
     ]
    }
   ],
   "source": [
    "x = [[1,3],[2,4]]\n",
    "s = pd.DataFrame(x,columns=['column1','column2'])\n",
    "print(s.head())\n",
    "\n",
    "print(\"\\n\")\n",
    "print(s[\"column2\"])"
   ]
  },
  {
   "cell_type": "code",
   "execution_count": 34,
   "metadata": {},
   "outputs": [
    {
     "data": {
      "text/html": [
       "<div>\n",
       "<style scoped>\n",
       "    .dataframe tbody tr th:only-of-type {\n",
       "        vertical-align: middle;\n",
       "    }\n",
       "\n",
       "    .dataframe tbody tr th {\n",
       "        vertical-align: top;\n",
       "    }\n",
       "\n",
       "    .dataframe thead th {\n",
       "        text-align: right;\n",
       "    }\n",
       "</style>\n",
       "<table border=\"1\" class=\"dataframe\">\n",
       "  <thead>\n",
       "    <tr style=\"text-align: right;\">\n",
       "      <th></th>\n",
       "      <th>0</th>\n",
       "      <th>1</th>\n",
       "      <th>2</th>\n",
       "      <th>3</th>\n",
       "      <th>4</th>\n",
       "    </tr>\n",
       "  </thead>\n",
       "  <tbody>\n",
       "    <tr>\n",
       "      <th>0</th>\n",
       "      <td>1.227673</td>\n",
       "      <td>0.824689</td>\n",
       "      <td>-1.116908</td>\n",
       "      <td>1.517800</td>\n",
       "      <td>-0.426829</td>\n",
       "    </tr>\n",
       "    <tr>\n",
       "      <th>1</th>\n",
       "      <td>0.935560</td>\n",
       "      <td>1.573277</td>\n",
       "      <td>-0.795913</td>\n",
       "      <td>-0.189699</td>\n",
       "      <td>0.719915</td>\n",
       "    </tr>\n",
       "    <tr>\n",
       "      <th>2</th>\n",
       "      <td>-0.131427</td>\n",
       "      <td>0.099829</td>\n",
       "      <td>-0.007959</td>\n",
       "      <td>0.938956</td>\n",
       "      <td>0.096602</td>\n",
       "    </tr>\n",
       "    <tr>\n",
       "      <th>3</th>\n",
       "      <td>1.123027</td>\n",
       "      <td>1.037674</td>\n",
       "      <td>0.435358</td>\n",
       "      <td>-0.744549</td>\n",
       "      <td>1.932087</td>\n",
       "    </tr>\n",
       "    <tr>\n",
       "      <th>4</th>\n",
       "      <td>0.305845</td>\n",
       "      <td>1.159053</td>\n",
       "      <td>-1.157912</td>\n",
       "      <td>-0.884367</td>\n",
       "      <td>-0.398298</td>\n",
       "    </tr>\n",
       "    <tr>\n",
       "      <th>5</th>\n",
       "      <td>-1.152445</td>\n",
       "      <td>0.256593</td>\n",
       "      <td>-0.702228</td>\n",
       "      <td>-0.242686</td>\n",
       "      <td>0.755474</td>\n",
       "    </tr>\n",
       "    <tr>\n",
       "      <th>6</th>\n",
       "      <td>1.573861</td>\n",
       "      <td>-1.731268</td>\n",
       "      <td>-1.170019</td>\n",
       "      <td>-0.368251</td>\n",
       "      <td>2.048130</td>\n",
       "    </tr>\n",
       "  </tbody>\n",
       "</table>\n",
       "</div>"
      ],
      "text/plain": [
       "          0         1         2         3         4\n",
       "0  1.227673  0.824689 -1.116908  1.517800 -0.426829\n",
       "1  0.935560  1.573277 -0.795913 -0.189699  0.719915\n",
       "2 -0.131427  0.099829 -0.007959  0.938956  0.096602\n",
       "3  1.123027  1.037674  0.435358 -0.744549  1.932087\n",
       "4  0.305845  1.159053 -1.157912 -0.884367 -0.398298\n",
       "5 -1.152445  0.256593 -0.702228 -0.242686  0.755474\n",
       "6  1.573861 -1.731268 -1.170019 -0.368251  2.048130"
      ]
     },
     "execution_count": 34,
     "metadata": {},
     "output_type": "execute_result"
    }
   ],
   "source": [
    "x = np.random.randn(40)\n",
    "x = x.reshape((-1,5))\n",
    "s = pd.DataFrame(x)\n",
    "s.head(7)\n"
   ]
  },
  {
   "cell_type": "code",
   "execution_count": 35,
   "metadata": {},
   "outputs": [
    {
     "data": {
      "text/html": [
       "<div>\n",
       "<style scoped>\n",
       "    .dataframe tbody tr th:only-of-type {\n",
       "        vertical-align: middle;\n",
       "    }\n",
       "\n",
       "    .dataframe tbody tr th {\n",
       "        vertical-align: top;\n",
       "    }\n",
       "\n",
       "    .dataframe thead th {\n",
       "        text-align: right;\n",
       "    }\n",
       "</style>\n",
       "<table border=\"1\" class=\"dataframe\">\n",
       "  <thead>\n",
       "    <tr style=\"text-align: right;\">\n",
       "      <th></th>\n",
       "      <th>0</th>\n",
       "      <th>1</th>\n",
       "      <th>2</th>\n",
       "      <th>3</th>\n",
       "      <th>4</th>\n",
       "    </tr>\n",
       "  </thead>\n",
       "  <tbody>\n",
       "    <tr>\n",
       "      <th>6</th>\n",
       "      <td>-1.007757</td>\n",
       "      <td>-0.391043</td>\n",
       "      <td>0.697545</td>\n",
       "      <td>0.978686</td>\n",
       "      <td>0.568443</td>\n",
       "    </tr>\n",
       "    <tr>\n",
       "      <th>7</th>\n",
       "      <td>-0.318384</td>\n",
       "      <td>-1.388905</td>\n",
       "      <td>-0.706748</td>\n",
       "      <td>1.040009</td>\n",
       "      <td>-1.088904</td>\n",
       "    </tr>\n",
       "  </tbody>\n",
       "</table>\n",
       "</div>"
      ],
      "text/plain": [
       "          0         1         2         3         4\n",
       "6 -1.007757 -0.391043  0.697545  0.978686  0.568443\n",
       "7 -0.318384 -1.388905 -0.706748  1.040009 -1.088904"
      ]
     },
     "execution_count": 35,
     "metadata": {},
     "output_type": "execute_result"
    }
   ],
   "source": [
    "x = np.random.randn(40)\n",
    "x = x.reshape((-1,5))\n",
    "s = pd.DataFrame(x)\n",
    "s.tail(2)"
   ]
  },
  {
   "cell_type": "code",
   "execution_count": 37,
   "metadata": {},
   "outputs": [
    {
     "name": "stdout",
     "output_type": "stream",
     "text": [
      "          0         1         2         3         4\n",
      "0 -0.105496  0.374848 -0.544530  1.117713 -0.511513\n",
      "1  0.356186 -1.080410 -0.049642 -0.043163 -0.731498\n",
      "2  0.203524  0.955148  0.122235 -1.174489  0.035424\n",
      "3  0.343112 -0.193178 -0.264112 -1.119586  0.313100\n",
      "4 -1.546517  0.873277 -0.593549 -0.616396  1.126518\n",
      "5 -0.784790 -0.338817  1.289657 -1.381403 -0.764034\n",
      "\n",
      "\n",
      "\n",
      "          0         1         2         3         4         5\n",
      "0 -0.105496  0.356186  0.203524  0.343112 -1.546517 -0.784790\n",
      "1  0.374848 -1.080410  0.955148 -0.193178  0.873277 -0.338817\n",
      "2 -0.544530 -0.049642  0.122235 -0.264112 -0.593549  1.289657\n",
      "3  1.117713 -0.043163 -1.174489 -1.119586 -0.616396 -1.381403\n",
      "4 -0.511513 -0.731498  0.035424  0.313100  1.126518 -0.764034\n"
     ]
    }
   ],
   "source": [
    "x = np.random.randn(30)\n",
    "x = x.reshape((-1,5))\n",
    "\n",
    "s = pd.DataFrame(x)\n",
    "print(s)\n",
    "print(\"\\n\\n\")\n",
    "print(s.T)"
   ]
  },
  {
   "cell_type": "code",
   "execution_count": 42,
   "metadata": {},
   "outputs": [
    {
     "name": "stdout",
     "output_type": "stream",
     "text": [
      "          0         1         2         3         4\n",
      "0  0.045091 -0.048637  1.146810 -0.954356  0.723190\n",
      "1  1.196742 -0.568056  2.383291 -0.142784  0.611620\n",
      "2  2.143977 -0.623572  1.973072 -0.520841 -0.168778\n",
      "3 -0.663318  0.656545 -1.970472  0.389672  0.398103\n",
      "4  0.361645  0.595457 -1.054627  0.068696  2.919998\n",
      "5  0.974186  0.321653  0.280873  1.344896 -0.752252\n",
      "\n",
      "\n",
      "\n",
      "0    float64\n",
      "1    float64\n",
      "2    float64\n",
      "3    float64\n",
      "4    float64\n",
      "dtype: object\n",
      "\n",
      " (6, 5)\n",
      "\n",
      " 30\n",
      "\n",
      " [[ 0.04509141 -0.0486374   1.1468098  -0.95435643  0.72318964]\n",
      " [ 1.19674191 -0.56805645  2.3832911  -0.14278392  0.6116204 ]\n",
      " [ 2.14397689 -0.62357249  1.9730719  -0.52084104 -0.16877824]\n",
      " [-0.66331825  0.65654542 -1.97047205  0.38967192  0.39810328]\n",
      " [ 0.3616452   0.59545657 -1.05462688  0.06869634  2.91999842]\n",
      " [ 0.97418624  0.32165265  0.28087259  1.34489564 -0.75225207]]\n"
     ]
    }
   ],
   "source": [
    "x = np.random.randn(30)\n",
    "x = x.reshape((-1,5))\n",
    "s = pd.DataFrame(x)\n",
    "print(s)\n",
    "print(\"\\n\\n\")\n",
    "print(s.dtypes)\n",
    "print(\"\\n\",s.shape)\n",
    "print(\"\\n\",s.size)\n",
    "print(\"\\n\",s.values)"
   ]
  },
  {
   "cell_type": "code",
   "execution_count": 45,
   "metadata": {},
   "outputs": [
    {
     "name": "stdout",
     "output_type": "stream",
     "text": [
      "\n",
      "           0         1         2         3         4\n",
      "0 -0.378904 -0.286969 -0.213992  0.016173 -0.338257\n",
      "1 -0.026960  1.511040 -0.986570  0.072654  0.344683\n",
      "2  0.861868  0.402938  1.471075 -0.403618  1.418308\n",
      "3  0.879987  0.131404 -0.146692  0.136261  0.496693\n",
      "4  0.543656  0.569741  0.313606  0.139961  0.732282\n",
      "5  0.898172  0.451146 -1.490933 -0.406567 -0.858220\n",
      "\n",
      " 0    2.777820\n",
      "1    2.779299\n",
      "2   -1.053506\n",
      "3   -0.445135\n",
      "4    1.795489\n",
      "dtype: float64\n",
      "\n",
      " 0   -0.240390\n",
      "1    0.182969\n",
      "2    0.750114\n",
      "3    0.299531\n",
      "4    0.459849\n",
      "5   -0.281280\n",
      "dtype: float64\n",
      "\n",
      " 0    0.543639\n",
      "1    0.597652\n",
      "2    1.033532\n",
      "3    0.260337\n",
      "4    0.803369\n",
      "dtype: float64\n",
      "\n",
      " -0.28696851114582644\n"
     ]
    }
   ],
   "source": [
    "x = np.random.randn(30)\n",
    "x = x.reshape((-1,5))\n",
    "\n",
    "s = pd.DataFrame(x)\n",
    "print(\"\\n\",s)\n",
    "print(\"\\n\",s.sum(axis=0))\n",
    "print(\"\\n\",s.mean(axis=1))\n",
    "print(\"\\n\",s.std())\n",
    "print(\"\\n\",s.min().max())\n"
   ]
  },
  {
   "cell_type": "code",
   "execution_count": 48,
   "metadata": {},
   "outputs": [
    {
     "name": "stdout",
     "output_type": "stream",
     "text": [
      "          0         1         2         3\n",
      "0  0.908426 -0.791481 -0.804089  1.178486\n",
      "1  0.268892 -0.342063  1.100824 -0.360982\n",
      "2  0.561572 -0.018451  0.110412  1.254153\n",
      "3 -1.059808  0.728562  1.337483 -0.058548\n",
      "4  0.820889  0.628922  0.291417 -1.335718\n",
      "5 -0.047730  0.554819  1.483084  0.768356\n",
      "6  1.082191  1.231592  0.075415 -0.773193\n",
      "\n",
      "\n",
      "\n",
      "           0          1          2          3\n",
      "0  10.908426   9.208519   9.195911  11.178486\n",
      "1  10.268892   9.657937  11.100824   9.639018\n",
      "2  10.561572   9.981549  10.110412  11.254153\n",
      "3   8.940192  10.728562  11.337483   9.941452\n",
      "4  10.820889  10.628922  10.291417   8.664282\n",
      "5   9.952270  10.554819  11.483084  10.768356\n",
      "6  11.082191  11.231592  10.075415   9.226807\n",
      "          0         1         2         3\n",
      "0  0.908426 -0.791481 -0.804089  1.178486\n",
      "1  0.268892 -0.342063  1.100824 -0.360982\n",
      "2  0.561572 -0.018451  0.110412  1.254153\n",
      "3 -1.059808  0.728562  1.337483 -0.058548\n",
      "4  0.820889  0.628922  0.291417 -1.335718\n",
      "5 -0.047730  0.554819  1.483084  0.768356\n",
      "6  1.082191  1.231592  0.075415 -0.773193\n"
     ]
    }
   ],
   "source": [
    "def adder(x1, x2):\n",
    "    return x1+x2\n",
    "x = pd.DataFrame(np.random.randn(7,4))\n",
    "print(x)\n",
    "print(\"\\n\\n\")\n",
    "print(x.pipe(adder,10))\n",
    "print(x)"
   ]
  },
  {
   "cell_type": "code",
   "execution_count": 52,
   "metadata": {},
   "outputs": [
    {
     "name": "stdout",
     "output_type": "stream",
     "text": [
      "          0         1         2         3\n",
      "0  0.248495 -1.248656  1.262526 -0.005347\n",
      "1  0.343777 -0.553954  1.166358 -0.208976\n",
      "2 -0.386201 -1.309358 -0.409941  1.195270\n",
      "3 -0.779155 -0.955748 -1.287416 -0.906948\n",
      "4 -0.843552  0.122535  0.212251 -0.114427\n",
      "5  0.307569 -0.501130 -0.256146 -1.611103\n",
      "6  1.350487  0.067052 -0.694802 -0.143870\n",
      "           0          1          2          3\n",
      "0  20.248495  18.751344  21.262526  19.994653\n",
      "1  20.343777  19.446046  21.166358  19.791024\n",
      "2  19.613799  18.690642  19.590059  21.195270\n",
      "3  19.220845  19.044252  18.712584  19.093052\n",
      "4  19.156448  20.122535  20.212251  19.885573\n",
      "5  20.307569  19.498870  19.743854  18.388897\n",
      "6  21.350487  20.067052  19.305198  19.856130\n"
     ]
    }
   ],
   "source": [
    "x = pd.DataFrame(np.random.randn(7,4))\n",
    "print(x)\n",
    "\n",
    "def add4(x1):\n",
    "    return x1 + 20\n",
    "print(x.apply(add4))"
   ]
  },
  {
   "cell_type": "code",
   "execution_count": 53,
   "metadata": {},
   "outputs": [
    {
     "name": "stdout",
     "output_type": "stream",
     "text": [
      "          0         1         2         3\n",
      "0 -0.220670 -1.202914 -0.795292  2.132608\n",
      "1  1.082589 -2.260037  0.372638  1.328492\n",
      "2  1.891633  0.643914 -1.642036  0.517401\n",
      "3  0.446476 -0.199605  0.584092  0.651621\n",
      "4 -0.124576  0.830372  0.828184 -0.670269\n",
      "5 -0.215257  0.224372  0.420318 -0.163279\n",
      "6  0.800213  0.775182  0.378120  0.333228\n",
      "\n",
      "\n",
      "\n",
      " 0   -0.021567\n",
      "1    0.130920\n",
      "2    0.352728\n",
      "3    0.370646\n",
      "4    0.215928\n",
      "5    0.066538\n",
      "6    0.571686\n",
      "dtype: float64\n"
     ]
    }
   ],
   "source": [
    "x = pd.DataFrame(np.random.randn(7,4))\n",
    "print(x)\n",
    "print(\"\\n\\n\\n\", x.apply(np.mean,axis = 1))"
   ]
  },
  {
   "cell_type": "code",
   "execution_count": 54,
   "metadata": {},
   "outputs": [
    {
     "name": "stdout",
     "output_type": "stream",
     "text": [
      "          0         1         2         3\n",
      "0  0.026009  0.064812  1.213882 -0.332693\n",
      "1  0.710498 -0.467922 -0.026286 -0.984056\n",
      "2 -0.135065 -1.481868 -0.703742 -0.508585\n",
      "3  0.960762  0.912436  1.514997  2.058607\n",
      "4  0.357189  0.090772  0.474370  1.191556\n",
      "5  0.714153 -1.725191 -0.231940 -1.127141\n",
      "6 -0.469745 -1.547166 -1.135349 -0.182946\n",
      "\n",
      "\n",
      "\n",
      "0      6.481225\n",
      "1    -46.792219\n",
      "2   -148.186753\n",
      "3     91.243608\n",
      "4      9.077242\n",
      "5   -172.519122\n",
      "6   -154.716553\n",
      "Name: 1, dtype: float64\n"
     ]
    }
   ],
   "source": [
    "x = pd.DataFrame(np.random.randn(7,4))\n",
    "print(x)\n",
    "\n",
    "print(\"\\n\\n\")\n",
    "print(x[1].map(lambda x:x*100))"
   ]
  },
  {
   "cell_type": "code",
   "execution_count": 55,
   "metadata": {},
   "outputs": [
    {
     "name": "stdout",
     "output_type": "stream",
     "text": [
      "         c1        c2        c3        c4\n",
      "0 -0.620297  1.455638  0.498932  1.201080\n",
      "1  0.380398  0.394648  1.293139  0.486742\n",
      "2  0.676837 -1.750858  1.570362  0.368706\n",
      "3  1.326565 -2.183365 -0.059484  2.739738\n",
      "4 -0.574777 -0.042412  0.364325 -0.150396\n",
      "5  1.629050 -0.740567  1.292301  0.420871\n",
      "6 -0.507121  1.522737  0.265090 -0.164923\n",
      "\n",
      "\n",
      "\n",
      "         c2        c4\n",
      "0  1.455638  1.201080\n",
      "1  0.394648  0.486742\n",
      "2 -1.750858  0.368706\n",
      "3 -2.183365  2.739738\n",
      "4 -0.042412 -0.150396\n",
      "5 -0.740567  0.420871\n",
      "6  1.522737 -0.164923\n"
     ]
    }
   ],
   "source": [
    "x = pd.DataFrame(np.random.randn(7,4), columns=['c1', 'c2', 'c3', 'c4'])\n",
    "print(x)\n",
    "print(\"\\n\\n\")\n",
    "print(x[['c2','c4']])"
   ]
  },
  {
   "cell_type": "code",
   "execution_count": 56,
   "metadata": {},
   "outputs": [
    {
     "name": "stdout",
     "output_type": "stream",
     "text": [
      "         c1        c2        c3        c4\n",
      "0 -2.335038  0.893008 -0.355276  0.809923\n",
      "1  0.129669  0.299441  1.431530 -0.307549\n",
      "2  2.134996  1.631227  1.934791  0.915731\n",
      "3 -0.478048 -1.279862  1.191271 -0.492750\n",
      "4  1.561043 -0.787364  1.450543 -0.166855\n",
      "5 -1.064510  2.454824 -0.053860  0.182089\n",
      "6  0.140073  0.092393 -0.384056  1.373350\n",
      "\n",
      "\n",
      "\n",
      "c1 0   -2.335038\n",
      "1    0.129669\n",
      "2    2.134996\n",
      "3   -0.478048\n",
      "4    1.561043\n",
      "5   -1.064510\n",
      "6    0.140073\n",
      "Name: c1, dtype: float64\n",
      "c2 0    0.893008\n",
      "1    0.299441\n",
      "2    1.631227\n",
      "3   -1.279862\n",
      "4   -0.787364\n",
      "5    2.454824\n",
      "6    0.092393\n",
      "Name: c2, dtype: float64\n",
      "c3 0   -0.355276\n",
      "1    1.431530\n",
      "2    1.934791\n",
      "3    1.191271\n",
      "4    1.450543\n",
      "5   -0.053860\n",
      "6   -0.384056\n",
      "Name: c3, dtype: float64\n",
      "c4 0    0.809923\n",
      "1   -0.307549\n",
      "2    0.915731\n",
      "3   -0.492750\n",
      "4   -0.166855\n",
      "5    0.182089\n",
      "6    1.373350\n",
      "Name: c4, dtype: float64\n"
     ]
    }
   ],
   "source": [
    "x = pd.DataFrame(np.random.randn(7,4), columns=['c1', 'c2', 'c3', 'c4'])\n",
    "print(x)\n",
    "print(\"\\n\\n\")\n",
    "for key, value in x.iteritems():\n",
    "    print(key, value)"
   ]
  },
  {
   "cell_type": "code",
   "execution_count": 57,
   "metadata": {},
   "outputs": [
    {
     "name": "stdout",
     "output_type": "stream",
     "text": [
      "         c1        c2        c3        c4\n",
      "0 -0.321573  0.388257 -1.139018 -1.477471\n",
      "1  0.882881  0.726899  0.306128 -2.476709\n",
      "2 -0.119823 -0.846500 -0.761634 -0.029435\n",
      "3 -0.913942 -1.571047 -0.246957  0.202452\n",
      "4  1.087195  2.008650  0.746206  0.033222\n",
      "5  0.669673  0.555070 -0.881472 -1.173880\n",
      "6  1.908878 -1.305311 -0.976019 -0.980194\n",
      "\n",
      "\n",
      "\n",
      "0 c1   -0.321573\n",
      "c2    0.388257\n",
      "c3   -1.139018\n",
      "c4   -1.477471\n",
      "Name: 0, dtype: float64\n",
      "1 c1    0.882881\n",
      "c2    0.726899\n",
      "c3    0.306128\n",
      "c4   -2.476709\n",
      "Name: 1, dtype: float64\n",
      "2 c1   -0.119823\n",
      "c2   -0.846500\n",
      "c3   -0.761634\n",
      "c4   -0.029435\n",
      "Name: 2, dtype: float64\n",
      "3 c1   -0.913942\n",
      "c2   -1.571047\n",
      "c3   -0.246957\n",
      "c4    0.202452\n",
      "Name: 3, dtype: float64\n",
      "4 c1    1.087195\n",
      "c2    2.008650\n",
      "c3    0.746206\n",
      "c4    0.033222\n",
      "Name: 4, dtype: float64\n",
      "5 c1    0.669673\n",
      "c2    0.555070\n",
      "c3   -0.881472\n",
      "c4   -1.173880\n",
      "Name: 5, dtype: float64\n",
      "6 c1    1.908878\n",
      "c2   -1.305311\n",
      "c3   -0.976019\n",
      "c4   -0.980194\n",
      "Name: 6, dtype: float64\n"
     ]
    }
   ],
   "source": [
    "x = pd.DataFrame(np.random.randn(7,4), columns=['c1', 'c2', 'c3', 'c4'])\n",
    "print(x)\n",
    "print(\"\\n\\n\")\n",
    "for index, row in x.iterrows():\n",
    "    print(index, row)\n"
   ]
  },
  {
   "cell_type": "markdown",
   "metadata": {},
   "source": [
    "# May-2,2019."
   ]
  },
  {
   "cell_type": "code",
   "execution_count": 28,
   "metadata": {},
   "outputs": [
    {
     "name": "stdout",
     "output_type": "stream",
     "text": [
      "         c1        c2        c3        c4\n",
      "0 -0.538859 -1.444580 -0.610499  1.359819\n",
      "1 -0.984772  0.124769 -0.501471  1.230928\n",
      "2 -0.675208 -1.160754 -0.488820  1.527237\n",
      "3 -0.044108 -1.102328  0.465678  2.180430\n",
      "4  0.485248  0.309705  1.013740  1.103797\n",
      "5  0.082830 -0.661412  0.893627 -0.309491\n",
      "6  0.374706  1.155776 -1.744727  0.186464\n",
      "\n",
      "\n",
      "\n",
      "<generator object DataFrame.iteritems at 0x00000274B0B2EF48>\n",
      "key =  c1\n",
      "value = \n",
      " 0   -0.538859\n",
      "1   -0.984772\n",
      "2   -0.675208\n",
      "3   -0.044108\n",
      "4    0.485248\n",
      "5    0.082830\n",
      "6    0.374706\n",
      "Name: c1, dtype: float64\n",
      "key =  c2\n",
      "value = \n",
      " 0   -1.444580\n",
      "1    0.124769\n",
      "2   -1.160754\n",
      "3   -1.102328\n",
      "4    0.309705\n",
      "5   -0.661412\n",
      "6    1.155776\n",
      "Name: c2, dtype: float64\n",
      "key =  c3\n",
      "value = \n",
      " 0   -0.610499\n",
      "1   -0.501471\n",
      "2   -0.488820\n",
      "3    0.465678\n",
      "4    1.013740\n",
      "5    0.893627\n",
      "6   -1.744727\n",
      "Name: c3, dtype: float64\n",
      "key =  c4\n",
      "value = \n",
      " 0    1.359819\n",
      "1    1.230928\n",
      "2    1.527237\n",
      "3    2.180430\n",
      "4    1.103797\n",
      "5   -0.309491\n",
      "6    0.186464\n",
      "Name: c4, dtype: float64\n"
     ]
    }
   ],
   "source": [
    "x = pd.DataFrame(np.random.randn(7,4), columns=['c1', 'c2', 'c3', 'c4'])\n",
    "print(x)\n",
    "print(\"\\n\\n\")\n",
    "print(x.iteritems())\n",
    "\n",
    "for key, value in x.iteritems():\n",
    "    print(\"key = \",key)\n",
    "    print(\"value = \\n\", value)"
   ]
  },
  {
   "cell_type": "code",
   "execution_count": 8,
   "metadata": {},
   "outputs": [
    {
     "name": "stdout",
     "output_type": "stream",
     "text": [
      "         c1        c2        c3        c4\n",
      "0 -0.806319  0.180501  1.068731  0.143848\n",
      "1  1.525639  0.639167  0.401761  0.786121\n",
      "2 -0.111505  0.099166 -0.313765 -1.226550\n",
      "3  1.343441  0.922185 -2.210424  0.501831\n",
      "4  0.035889  1.048407  0.613465  0.102926\n",
      "5 -1.723978 -1.622568 -1.269175 -0.076283\n",
      "6  2.071009  0.110023  1.328730  0.408752\n",
      "\n",
      "\n",
      "\n",
      "<generator object DataFrame.iteritems at 0x00000274B0B2EED0>\n",
      "index =  0\n",
      "row = \n",
      " c1   -0.806319\n",
      "c2    0.180501\n",
      "c3    1.068731\n",
      "c4    0.143848\n",
      "Name: 0, dtype: float64\n",
      "index =  1\n",
      "row = \n",
      " c1    1.525639\n",
      "c2    0.639167\n",
      "c3    0.401761\n",
      "c4    0.786121\n",
      "Name: 1, dtype: float64\n",
      "index =  2\n",
      "row = \n",
      " c1   -0.111505\n",
      "c2    0.099166\n",
      "c3   -0.313765\n",
      "c4   -1.226550\n",
      "Name: 2, dtype: float64\n",
      "index =  3\n",
      "row = \n",
      " c1    1.343441\n",
      "c2    0.922185\n",
      "c3   -2.210424\n",
      "c4    0.501831\n",
      "Name: 3, dtype: float64\n",
      "index =  4\n",
      "row = \n",
      " c1    0.035889\n",
      "c2    1.048407\n",
      "c3    0.613465\n",
      "c4    0.102926\n",
      "Name: 4, dtype: float64\n",
      "index =  5\n",
      "row = \n",
      " c1   -1.723978\n",
      "c2   -1.622568\n",
      "c3   -1.269175\n",
      "c4   -0.076283\n",
      "Name: 5, dtype: float64\n",
      "index =  6\n",
      "row = \n",
      " c1    2.071009\n",
      "c2    0.110023\n",
      "c3    1.328730\n",
      "c4    0.408752\n",
      "Name: 6, dtype: float64\n"
     ]
    }
   ],
   "source": [
    "x = pd.DataFrame(np.random.randn(7,4), columns=['c1', 'c2', 'c3', 'c4'])\n",
    "print(x)\n",
    "print(\"\\n\\n\")\n",
    "print(x.iteritems())\n",
    "\n",
    "for ind, row in x.iterrows():\n",
    "    print(\"index = \", ind)\n",
    "    print(\"row = \\n\", row)"
   ]
  },
  {
   "cell_type": "code",
   "execution_count": 11,
   "metadata": {},
   "outputs": [
    {
     "name": "stdout",
     "output_type": "stream",
     "text": [
      "       col2      col1\n",
      "1  0.840425  0.765031\n",
      "4  1.331319  0.036303\n",
      "6 -2.068184 -1.356613\n",
      "2  0.666356  0.075084\n",
      "3  0.377326 -1.396498\n",
      "5 -0.153159 -0.792001\n",
      "9 -0.079265  2.498028\n",
      "8  1.074894 -0.173111\n",
      "0  0.828193 -0.667614\n",
      "7 -2.025760  1.351399\n",
      "\n",
      "\n",
      "\n",
      "       col2      col1\n",
      "0  0.828193 -0.667614\n",
      "1  0.840425  0.765031\n",
      "2  0.666356  0.075084\n",
      "3  0.377326 -1.396498\n",
      "4  1.331319  0.036303\n",
      "5 -0.153159 -0.792001\n",
      "6 -2.068184 -1.356613\n",
      "7 -2.025760  1.351399\n",
      "8  1.074894 -0.173111\n",
      "9 -0.079265  2.498028\n"
     ]
    }
   ],
   "source": [
    "unsorted_df=pd.DataFrame(np.random.randn(10,2),index=[1,4,6,2,3,5,9,8,0,7],columns=['col2','col1'])\n",
    "print(unsorted_df)\n",
    "\n",
    "print(\"\\n\\n\")\n",
    "print(unsorted_df.sort_index())"
   ]
  },
  {
   "cell_type": "code",
   "execution_count": 12,
   "metadata": {},
   "outputs": [
    {
     "name": "stdout",
     "output_type": "stream",
     "text": [
      "       col2      col1\n",
      "1 -0.969715  1.069143\n",
      "4  2.244657 -0.759528\n",
      "6 -2.231657 -0.519470\n",
      "2  0.243583 -0.663343\n",
      "3  2.797747 -0.982444\n",
      "5 -0.433958  0.921443\n",
      "9  0.758574 -0.140077\n",
      "8 -1.703743  0.376428\n",
      "0 -0.066841  0.648768\n",
      "7  0.245880 -1.231699\n",
      "\n",
      "\n",
      "\n",
      "       col1      col2\n",
      "1  1.069143 -0.969715\n",
      "4 -0.759528  2.244657\n",
      "6 -0.519470 -2.231657\n",
      "2 -0.663343  0.243583\n",
      "3 -0.982444  2.797747\n",
      "5  0.921443 -0.433958\n",
      "9 -0.140077  0.758574\n",
      "8  0.376428 -1.703743\n",
      "0  0.648768 -0.066841\n",
      "7 -1.231699  0.245880\n"
     ]
    }
   ],
   "source": [
    "unsorted_df=pd.DataFrame(np.random.randn(10,2),index=[1,4,6,2,3,5,9,8,0,7],columns=['col2','col1'])\n",
    "print(unsorted_df)\n",
    "\n",
    "print(\"\\n\\n\")\n",
    "print(unsorted_df.sort_index(axis=1))"
   ]
  },
  {
   "cell_type": "code",
   "execution_count": 13,
   "metadata": {},
   "outputs": [
    {
     "name": "stdout",
     "output_type": "stream",
     "text": [
      "       col2      col1\n",
      "1 -0.449534  0.874430\n",
      "4  1.284515 -1.045812\n",
      "6  0.777535 -0.158216\n",
      "2 -1.425040  1.078284\n",
      "3  0.585979  0.112879\n",
      "5 -1.016149  1.731430\n",
      "9 -0.741615 -1.486535\n",
      "8 -0.899201 -0.771422\n",
      "0 -0.422517  0.733304\n",
      "7 -0.913444  2.224308\n",
      "\n",
      "\n",
      "\n",
      "       col2      col1\n",
      "7 -0.913444  2.224308\n",
      "5 -1.016149  1.731430\n",
      "2 -1.425040  1.078284\n",
      "1 -0.449534  0.874430\n",
      "0 -0.422517  0.733304\n",
      "3  0.585979  0.112879\n",
      "6  0.777535 -0.158216\n",
      "8 -0.899201 -0.771422\n",
      "4  1.284515 -1.045812\n",
      "9 -0.741615 -1.486535\n"
     ]
    }
   ],
   "source": [
    "unsorted_df=pd.DataFrame(np.random.randn(10,2),index=[1,4,6,2,3,5,9,8,0,7],columns=['col2','col1'])\n",
    "print(unsorted_df)\n",
    "\n",
    "print(\"\\n\\n\")\n",
    "print(unsorted_df.sort_values(by='col1', ascending=False))"
   ]
  },
  {
   "cell_type": "code",
   "execution_count": 14,
   "metadata": {},
   "outputs": [
    {
     "name": "stdout",
     "output_type": "stream",
     "text": [
      "              0\n",
      "0           Tom\n",
      "1  William Rick\n",
      "2          John\n",
      "3       Alber@t\n",
      "4           NaN\n",
      "5          1234\n",
      "6    SteveSmith\n",
      "\n",
      "\n",
      "\n",
      "0     3.0\n",
      "1    12.0\n",
      "2     4.0\n",
      "3     7.0\n",
      "4     NaN\n",
      "5     4.0\n",
      "6    10.0\n",
      "Name: 0, dtype: float64\n"
     ]
    }
   ],
   "source": [
    "s = pd.DataFrame(['Tom', 'William Rick', 'John', 'Alber@t', np.nan, '1234','SteveSmith'])\n",
    "\n",
    "print(s)\n",
    "print(\"\\n\\n\")\n",
    "print(s[0].str.len())"
   ]
  },
  {
   "cell_type": "code",
   "execution_count": 29,
   "metadata": {},
   "outputs": [
    {
     "name": "stdout",
     "output_type": "stream",
     "text": [
      "       col2      col1\n",
      "0  0.132994  0.625637\n",
      "1  0.427874 -0.701517\n",
      "2 -0.530314  1.468782\n",
      "3  2.384653  0.263340\n",
      "4  0.437788 -1.333279\n",
      "5 -0.997738  0.132296\n",
      "6 -1.122058 -0.255081\n",
      "7 -0.617333  0.310417\n",
      "8 -1.322646  0.837961\n",
      "9 -0.421410  1.186170\n",
      "\n",
      "\n",
      " 0    0.625637\n",
      "1   -0.701517\n",
      "2    1.468782\n",
      "3    0.263340\n",
      "4   -1.333279\n",
      "5    0.132296\n",
      "6   -0.255081\n",
      "7    0.310417\n",
      "8    0.837961\n",
      "9    1.186170\n",
      "Name: col1, dtype: float64\n",
      "\n",
      "\n",
      "        col2      col1\n",
      "2 -0.530314  1.468782\n",
      "3  2.384653  0.263340\n",
      "4  0.437788 -1.333279\n"
     ]
    }
   ],
   "source": [
    "df=pd.DataFrame(np.random.randn(10,2), columns=['col2','col1'])\n",
    "print(df)\n",
    "\n",
    "print(\"\\n\\n\",df['col1'])\n",
    "print(\"\\n\\n\", df[2:5])"
   ]
  },
  {
   "cell_type": "code",
   "execution_count": 18,
   "metadata": {},
   "outputs": [
    {
     "name": "stdout",
     "output_type": "stream",
     "text": [
      "       col1      col2      col3\n",
      "0 -0.195338 -0.201199  0.415430\n",
      "1  1.293073  1.020594 -0.234682\n",
      "2 -0.477974 -2.026056  0.893765\n",
      "3  1.587481  0.829140 -0.908536\n",
      "4  0.344278 -1.082662 -0.065563\n",
      "5 -0.936843  1.955629 -0.052156\n",
      "6  1.048677 -0.660001 -0.107714\n",
      "7 -0.531986 -1.554284  1.050597\n",
      "8 -1.933014  1.230742 -1.425414\n",
      "9  1.802074 -0.579484  0.615911\n",
      "\n",
      "\n",
      "\n",
      "       col1      col3\n",
      "2 -0.477974  0.893765\n",
      "3  1.587481 -0.908536\n",
      "4  0.344278 -0.065563\n",
      "5 -0.936843 -0.052156\n"
     ]
    }
   ],
   "source": [
    "#location indexing\n",
    "df=pd.DataFrame(np.random.randn(10,3), columns=['col1','col2', 'col3'])\n",
    "print(df)\n",
    "\n",
    "print(\"\\n\\n\")\n",
    "print(df.loc[2:5, ['col1', 'col3']])"
   ]
  },
  {
   "cell_type": "code",
   "execution_count": 19,
   "metadata": {},
   "outputs": [
    {
     "name": "stdout",
     "output_type": "stream",
     "text": [
      "       col1      col2      col3\n",
      "0 -1.118474 -0.251925  0.558683\n",
      "1 -0.442855 -0.998445 -1.105560\n",
      "2 -0.856883 -0.421247  0.068603\n",
      "3 -0.171509 -1.540222  0.584073\n",
      "4 -1.246339  0.773597 -0.113462\n",
      "5 -1.382177  1.302225  0.862319\n",
      "6 -0.371378  0.297826  0.920287\n",
      "7 -1.207607  0.738468  1.700738\n",
      "8 -0.577968 -0.989977  1.231978\n",
      "9  1.551422  0.240808  0.689801\n",
      "\n",
      "\n",
      "\n",
      "       col1      col3\n",
      "3 -0.171509  0.584073\n",
      "4 -1.246339 -0.113462\n",
      "5 -1.382177  0.862319\n",
      "6 -0.371378  0.920287\n",
      "7 -1.207607  1.700738\n",
      "8 -0.577968  1.231978\n"
     ]
    }
   ],
   "source": [
    "#integer indexing\n",
    "df=pd.DataFrame(np.random.randn(10,3), columns=['col1','col2', 'col3'])\n",
    "print(df)\n",
    "\n",
    "print(\"\\n\\n\")\n",
    "print(df.iloc[3:-1, ::2])"
   ]
  },
  {
   "cell_type": "code",
   "execution_count": 20,
   "metadata": {},
   "outputs": [
    {
     "name": "stdout",
     "output_type": "stream",
     "text": [
      "       col1      col2      col3\n",
      "0 -0.281071  0.114729 -1.186684\n",
      "1 -0.573996  2.093587 -0.913704\n",
      "2 -3.027674 -0.742838 -0.369472\n",
      "3 -0.083709  1.019926  2.310367\n",
      "4  0.412188 -0.964671 -0.097254\n",
      "5 -1.602799  1.800159  0.328608\n",
      "6  0.733568  1.024757  0.360361\n",
      "7 -0.505976 -0.321674  0.670633\n",
      "8 -1.180572  1.827027 -0.398540\n",
      "9 -1.773250  0.212460 -1.218741\n",
      "\n",
      "\n",
      "\n",
      "       col1      col2      col3\n",
      "3 -0.083709  1.019926  2.310367\n",
      "4  0.412188 -0.964671 -0.097254\n",
      "5 -1.602799  1.800159  0.328608\n",
      "6  0.733568  1.024757  0.360361\n",
      "7 -0.505976 -0.321674  0.670633\n",
      "8 -1.180572  1.827027 -0.398540\n",
      "9 -1.773250  0.212460 -1.218741\n"
     ]
    },
    {
     "name": "stderr",
     "output_type": "stream",
     "text": [
      "C:\\Users\\hp\\Anaconda3\\New folder\\lib\\site-packages\\ipykernel_launcher.py:5: DeprecationWarning: \n",
      ".ix is deprecated. Please use\n",
      ".loc for label based indexing or\n",
      ".iloc for positional indexing\n",
      "\n",
      "See the documentation here:\n",
      "http://pandas.pydata.org/pandas-docs/stable/indexing.html#ix-indexer-is-deprecated\n",
      "  \"\"\"\n"
     ]
    }
   ],
   "source": [
    "# used loc and iloc both. \n",
    "df=pd.DataFrame(np.random.randn(10,3), columns=['col1','col2', 'col3'])\n",
    "print(df)\n",
    "\n",
    "print(\"\\n\\n\")\n",
    "print(df.ix[3:])"
   ]
  },
  {
   "cell_type": "code",
   "execution_count": 21,
   "metadata": {},
   "outputs": [
    {
     "name": "stdout",
     "output_type": "stream",
     "text": [
      "       col1      col2      col3\n",
      "0 -0.997386 -0.750813 -1.308879\n",
      "1  0.672920  1.260031 -0.836720\n",
      "2  0.025755  0.889626  0.763246\n",
      "3 -0.326277  0.542438 -0.361950\n",
      "4 -0.023533  0.570906 -1.099670\n",
      "5 -0.807757  0.901423  0.348218\n",
      "6  1.300548 -0.342408 -0.630200\n",
      "7  0.413314 -0.494369 -0.566006\n",
      "8  1.125187 -0.415550  2.271676\n",
      "9 -0.547388  1.405805 -0.455916\n",
      "\n",
      "\n",
      "\n",
      "0   -0.750813\n",
      "1    1.260031\n",
      "2    0.889626\n",
      "3    0.542438\n",
      "4    0.570906\n",
      "5    0.901423\n",
      "6   -0.342408\n",
      "7   -0.494369\n",
      "8   -0.415550\n",
      "9    1.405805\n",
      "Name: col2, dtype: float64 \n",
      "\n",
      "\n",
      "0   -0.750813\n",
      "1    1.260031\n",
      "2    0.889626\n",
      "3    0.542438\n",
      "4    0.570906\n",
      "5    0.901423\n",
      "6   -0.342408\n",
      "7   -0.494369\n",
      "8   -0.415550\n",
      "9    1.405805\n",
      "Name: col2, dtype: float64\n"
     ]
    }
   ],
   "source": [
    "df=pd.DataFrame(np.random.randn(10,3), columns=['col1','col2', 'col3'])\n",
    "print(df)\n",
    "\n",
    "print(\"\\n\\n\")\n",
    "\n",
    "print(df['col2'], \"\\n\\n\")\n",
    "\n",
    "print(df.col2)"
   ]
  },
  {
   "cell_type": "code",
   "execution_count": 22,
   "metadata": {},
   "outputs": [
    {
     "name": "stdout",
     "output_type": "stream",
     "text": [
      "       col1      col2      col3\n",
      "0  0.628256 -1.156729  0.962723\n",
      "1  0.344338 -2.054508  0.957612\n",
      "2 -0.031447  1.775773  0.553630\n",
      "3  0.283310 -0.042293 -1.326530\n",
      "4  0.974519  0.903885  0.786410\n",
      "5 -1.252935 -0.077845  0.196364\n",
      "6  2.015876  1.121039 -0.359756\n",
      "7 -0.185871  0.104420 -0.668665\n",
      "8  0.484397 -1.985520 -1.109935\n",
      "9 -0.338196  1.531319 -0.401585\n",
      "\n",
      "\n",
      "        col1        col2      col3\n",
      "0  0.628256 -115.672902  0.962723\n",
      "1  0.344338 -205.450807  0.957612\n",
      "2 -0.031447  177.577263  0.553630\n",
      "3  0.283310   -4.229319 -1.326530\n",
      "4  0.974519   90.388546  0.786410\n",
      "5 -1.252935   -7.784469  0.196364\n",
      "6  2.015876  112.103924 -0.359756\n",
      "7 -0.185871   10.442034 -0.668665\n",
      "8  0.484397 -198.552002 -1.109935\n",
      "9 -0.338196  153.131908 -0.401585\n"
     ]
    }
   ],
   "source": [
    "df=pd.DataFrame(np.random.randn(10,3), columns=['col1','col2', 'col3'])\n",
    "print(df)\n",
    "\n",
    "df.col2 = df.col2 * 100\n",
    "\n",
    "print(\"\\n\\n\", df)"
   ]
  },
  {
   "cell_type": "code",
   "execution_count": 23,
   "metadata": {},
   "outputs": [
    {
     "name": "stdout",
     "output_type": "stream",
     "text": [
      "       col1      col2      col3\n",
      "0  0.657985 -0.699967 -1.439413\n",
      "1  0.006209  1.222225  1.317719\n",
      "2  0.199645 -0.526183  1.141379\n",
      "3 -1.320058 -0.155896  1.195336\n",
      "4 -0.552005  0.455903 -0.817122\n",
      "5  1.456728 -0.389698 -0.202152\n",
      "6  1.230635  0.885545 -0.326770\n",
      "7 -1.004810  0.062925 -0.263579\n",
      "8 -0.121673  0.803806 -0.128993\n",
      "9 -0.342840  0.896215 -1.388834\n",
      "\n",
      "\n",
      "          col1      col2      col3\n",
      "col1  1.000000 -0.108689 -0.213681\n",
      "col2 -0.108689  1.000000  0.018540\n",
      "col3 -0.213681  0.018540  1.000000\n"
     ]
    }
   ],
   "source": [
    "# data corrleation\n",
    "df=pd.DataFrame(np.random.randn(10,3), columns=['col1','col2', 'col3'])\n",
    "print(df)\n",
    "\n",
    "print(\"\\n\")\n",
    "print(df.corr())"
   ]
  },
  {
   "cell_type": "code",
   "execution_count": 24,
   "metadata": {},
   "outputs": [
    {
     "name": "stdout",
     "output_type": "stream",
     "text": [
      "   x   y\n",
      "0  3  10\n",
      "1  4  11\n",
      "2  5  12\n",
      "\n",
      "\n",
      "      x    y\n",
      "x  1.0  1.0\n",
      "y  1.0  1.0\n"
     ]
    }
   ],
   "source": [
    "# Data Conversition.\n",
    "dic  = {'x':[3,4,5], 'y':[10,11,12]}\n",
    "df = pd.DataFrame(dic)\n",
    "\n",
    "print(df)\n",
    "\n",
    "print(\"\\n\\n\", df.cov())"
   ]
  },
  {
   "cell_type": "code",
   "execution_count": 27,
   "metadata": {},
   "outputs": [
    {
     "name": "stdout",
     "output_type": "stream",
     "text": [
      "   x   y\n",
      "0  3  10\n",
      "1  4  11\n",
      "2  5  12\n",
      "\n",
      "\n",
      "      x    y\n",
      "x  1.0  1.0\n",
      "y  1.0  1.0\n"
     ]
    }
   ],
   "source": [
    "dic  = {'x':[3,4,5], 'y':[10,11,12]}\n",
    "df = pd.DataFrame(dic)\n",
    "\n",
    "print(df)\n",
    "\n",
    "print(\"\\n\\n\", df.corr())"
   ]
  },
  {
   "cell_type": "code",
   "execution_count": 10,
   "metadata": {},
   "outputs": [
    {
     "name": "stdout",
     "output_type": "stream",
     "text": [
      "          A         B         C         D         E\n",
      "0  1.035608 -0.142526  0.513129  0.051211 -0.371688\n",
      "1 -0.041986 -0.006720 -2.034566 -0.323791 -2.031305\n",
      "2 -1.675308 -1.618710 -0.942212  0.205755 -0.597546\n",
      "3  1.697793  0.656652 -1.370954  1.215914  0.598165\n",
      "4  1.515063 -1.036313  1.394797 -1.727638 -0.410980\n",
      "5  0.906462  0.002080  0.381601 -0.187833  0.719469\n",
      "6 -0.549106 -0.151909 -0.204846  1.876942  0.873264\n",
      "7  1.159137 -1.689207 -0.292726  0.590547  1.064241\n",
      "8 -0.890860  1.042741  1.276871  0.575183 -0.857771\n",
      "9  0.303494  1.422860  1.517816  0.085885 -0.659034\n",
      "          A         B\n",
      "2 -1.675308 -1.618710\n",
      "3  1.697793  0.656652\n",
      "4  1.515063 -1.036313\n",
      "5  0.906462  0.002080\n",
      "6 -0.549106 -0.151909\n",
      "\n",
      "\n",
      "\n",
      "          A         B         C         D         E\n",
      "A  1.000000  0.025223  0.109691 -0.274811  0.374289\n",
      "B  0.025223  1.000000  0.276376  0.225988 -0.236437\n",
      "C  0.109691  0.276376  1.000000 -0.323977  0.079216\n",
      "D -0.274811  0.225988 -0.323977  1.000000  0.469328\n",
      "E  0.374289 -0.236437  0.079216  0.469328  1.000000\n"
     ]
    }
   ],
   "source": [
    "df=pd.DataFrame(np.random.randn(10,5), columns=['A','B','C','D','E'])\n",
    "print(df)\n",
    "\n",
    "print(df.loc[2:6, ['A', 'B']])\n",
    "\n",
    "print(\"\\n\\n\")\n",
    "\n",
    "print(df.corr())"
   ]
  },
  {
   "cell_type": "code",
   "execution_count": 18,
   "metadata": {},
   "outputs": [
    {
     "name": "stdout",
     "output_type": "stream",
     "text": [
      "      Team  Rank  Year  Points\n",
      "0   Riders     1  2014     876\n",
      "1   Riders     2  2015     789\n",
      "2   Devils     2  2014     863\n",
      "3   Devils     3  2015     673\n",
      "4    Kings     3  2014     741\n",
      "5    Kings     4  2015     812\n",
      "6    Kings     1  2016     756\n",
      "7    Kings     1  2017     788\n",
      "8   Riders     2  2016     694\n",
      "9   Royals     4  2014     701\n",
      "10  Royals     1  2015     804\n",
      "11  Riders     2  2017     690\n",
      "\n",
      "\n",
      "\n",
      "          mean   sum  median         std\n",
      "Team                                    \n",
      "Devils  768.00  1536   768.0  134.350288\n",
      "Kings   774.25  3097   772.0   31.899582\n",
      "Riders  762.25  3049   741.5   88.567771\n",
      "Royals  752.50  1505   752.5   72.831998\n",
      "\n",
      "\n",
      "\n",
      "        mean  sum  median       std\n",
      "Team                               \n",
      "Devils  2.50    5     2.5  0.707107\n",
      "Kings   2.25    9     2.0  1.500000\n",
      "Riders  1.75    7     2.0  0.500000\n",
      "Royals  2.50    5     2.5  2.121320\n",
      "\n",
      "\n",
      "\n",
      "             std\n",
      "Team            \n",
      "Devils  0.707107\n",
      "Kings   1.290994\n",
      "Riders  1.290994\n",
      "Royals  0.707107\n"
     ]
    }
   ],
   "source": [
    "ipl_data = {'Team': ['Riders', 'Riders', 'Devils', 'Devils', 'Kings',\n",
    "   'Kings', 'Kings', 'Kings', 'Riders', 'Royals', 'Royals', 'Riders'],\n",
    "   'Rank': [1, 2, 2, 3, 3,4 ,1 ,1,2 , 4,1,2],\n",
    "   'Year': [2014,2015,2014,2015,2014,2015,2016,2017,2016,2014,2015,2017],\n",
    "   'Points':[876,789,863,673,741,812,756,788,694,701,804,690]}\n",
    "df = pd.DataFrame(ipl_data)\n",
    "\n",
    "print(df)\n",
    "\n",
    "v = df.groupby('Team')\n",
    "\n",
    "print(\"\\n\\n\")\n",
    "print(v['Points'].agg([np.mean, np.sum, np.median, np.std]))\n",
    "print(\"\\n\\n\")\n",
    "print(v['Rank'].agg([np.mean, np.sum, np.median, np.std]))\n",
    "print(\"\\n\\n\")\n",
    "print(v['Year'].agg([np.std]))"
   ]
  },
  {
   "cell_type": "code",
   "execution_count": 8,
   "metadata": {},
   "outputs": [
    {
     "name": "stdout",
     "output_type": "stream",
     "text": [
      "     Name subject_id  Marks_scored\n",
      "1    Alex       sub1            98\n",
      "2     Amy       sub2            90\n",
      "3   Allen       sub4            87\n",
      "4   Alice       sub6            69\n",
      "5  Ayoung       sub5            78 \n",
      "\n",
      "     Name subject_id  Marks_scored\n",
      "1  Billy       sub2            89\n",
      "2  Brian       sub4            80\n",
      "3   Bran       sub3            79\n",
      "4  Bryce       sub6            97\n",
      "5  Betty       sub5            88\n",
      "\n",
      "\n",
      "      Name subject_id  Marks_scored\n",
      "1    Alex       sub1            98\n",
      "2     Amy       sub2            90\n",
      "3   Allen       sub4            87\n",
      "4   Alice       sub6            69\n",
      "5  Ayoung       sub5            78\n",
      "1   Billy       sub2            89\n",
      "2   Brian       sub4            80\n",
      "3    Bran       sub3            79\n",
      "4   Bryce       sub6            97\n",
      "5   Betty       sub5            88\n"
     ]
    }
   ],
   "source": [
    "one = pd.DataFrame({\n",
    "   'Name': ['Alex', 'Amy', 'Allen', 'Alice', 'Ayoung'],\n",
    "   'subject_id':['sub1','sub2','sub4','sub6','sub5'],\n",
    "   'Marks_scored':[98,90,87,69,78]},\n",
    "   index=[1,2,3,4,5])\n",
    "\n",
    "two = pd.DataFrame({\n",
    "   'Name': ['Billy', 'Brian', 'Bran', 'Bryce', 'Betty'],\n",
    "   'subject_id':['sub2','sub4','sub3','sub6','sub5'],\n",
    "   'Marks_scored':[89,80,79,97,88]},\n",
    "   index=[1,2,3,4,5])\n",
    "\n",
    "print(one, \"\\n\\n\", two)\n",
    "\n",
    "print(\"\\n\\n\", pd.concat([one,two])) # Contact will put a and b togather, also create the different table. "
   ]
  },
  {
   "cell_type": "code",
   "execution_count": 9,
   "metadata": {},
   "outputs": [
    {
     "name": "stdout",
     "output_type": "stream",
     "text": [
      "     Name subject_id  Marks_scored\n",
      "1    Alex       sub1            98\n",
      "2     Amy       sub2            90\n",
      "3   Allen       sub4            87\n",
      "4   Alice       sub6            69\n",
      "5  Ayoung       sub5            78 \n",
      "\n",
      "     Name subject_id  Marks_scored\n",
      "1  Billy       sub2            89\n",
      "2  Brian       sub4            80\n",
      "3   Bran       sub3            79\n",
      "4  Bryce       sub6            97\n",
      "5  Betty       sub5            88\n",
      "\n",
      "\n",
      "      Name subject_id  Marks_scored\n",
      "1    Alex       sub1            98\n",
      "2     Amy       sub2            90\n",
      "3   Allen       sub4            87\n",
      "4   Alice       sub6            69\n",
      "5  Ayoung       sub5            78\n",
      "1   Billy       sub2            89\n",
      "2   Brian       sub4            80\n",
      "3    Bran       sub3            79\n",
      "4   Bryce       sub6            97\n",
      "5   Betty       sub5            88\n"
     ]
    }
   ],
   "source": [
    "one = pd.DataFrame({\n",
    "   'Name': ['Alex', 'Amy', 'Allen', 'Alice', 'Ayoung'],\n",
    "   'subject_id':['sub1','sub2','sub4','sub6','sub5'],\n",
    "   'Marks_scored':[98,90,87,69,78]},\n",
    "   index=[1,2,3,4,5])\n",
    "\n",
    "two = pd.DataFrame({\n",
    "   'Name': ['Billy', 'Brian', 'Bran', 'Bryce', 'Betty'],\n",
    "   'subject_id':['sub2','sub4','sub3','sub6','sub5'],\n",
    "   'Marks_scored':[89,80,79,97,88]},\n",
    "   index=[1,2,3,4,5])\n",
    "\n",
    "print(one, \"\\n\\n\", two)\n",
    "\n",
    "print(\"\\n\\n\", one.append(two))# append also put the two tables togather. "
   ]
  },
  {
   "cell_type": "markdown",
   "metadata": {},
   "source": [
    "# 5/3/2019"
   ]
  },
  {
   "cell_type": "code",
   "execution_count": null,
   "metadata": {},
   "outputs": [],
   "source": [
    " "
   ]
  }
 ],
 "metadata": {
  "kernelspec": {
   "display_name": "Python 3",
   "language": "python",
   "name": "python3"
  },
  "language_info": {
   "codemirror_mode": {
    "name": "ipython",
    "version": 3
   },
   "file_extension": ".py",
   "mimetype": "text/x-python",
   "name": "python",
   "nbconvert_exporter": "python",
   "pygments_lexer": "ipython3",
   "version": "3.7.3"
  }
 },
 "nbformat": 4,
 "nbformat_minor": 2
}
